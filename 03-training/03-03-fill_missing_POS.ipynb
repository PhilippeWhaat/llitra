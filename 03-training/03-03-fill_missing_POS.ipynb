{
 "cells": [
  {
   "cell_type": "code",
   "execution_count": 80,
   "metadata": {},
   "outputs": [],
   "source": [
    "import pandas as pd\n",
    "import spacy\n",
    "\n",
    "df = pd.read_csv('PATH TO df_w_POS.csv', encoding = \"UTF-8\")\n",
    "nlp = spacy.load(\"es_core_news_lg\")"
   ]
  },
  {
   "cell_type": "code",
   "execution_count": 81,
   "metadata": {},
   "outputs": [],
   "source": [
    "df['POS'].fillna('MISSING', inplace=True)"
   ]
  },
  {
   "cell_type": "code",
   "execution_count": null,
   "metadata": {},
   "outputs": [],
   "source": [
    "\n",
    "for ind in df.index:\n",
    "    if df['POS'][ind] == 'MISSING':\n",
    "        doc = nlp(str(df['Word'][ind]))\n",
    "        for token in doc:\n",
    "            df['POS'][ind] = token.pos_\n",
    "            print(token.pos_)\n",
    "\n",
    "df.to_csv('df_FINAL_w_POS.csv')"
   ]
  }
 ],
 "metadata": {
  "kernelspec": {
   "display_name": "base",
   "language": "python",
   "name": "python3"
  },
  "language_info": {
   "codemirror_mode": {
    "name": "ipython",
    "version": 3
   },
   "file_extension": ".py",
   "mimetype": "text/x-python",
   "name": "python",
   "nbconvert_exporter": "python",
   "pygments_lexer": "ipython3",
   "version": "3.8.12 | packaged by conda-forge | (default, Jan 30 2022, 23:33:09) \n[Clang 11.1.0 ]"
  },
  "orig_nbformat": 4,
  "vscode": {
   "interpreter": {
    "hash": "3a37aa677fa97143dc02ffad92af644d6e59fb8e41130680c4ad8e633f2ee248"
   }
  }
 },
 "nbformat": 4,
 "nbformat_minor": 2
}
